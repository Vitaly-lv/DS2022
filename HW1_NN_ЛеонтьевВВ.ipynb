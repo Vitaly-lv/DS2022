{
  "cells": [
    {
      "cell_type": "markdown",
      "metadata": {
        "id": "view-in-github",
        "colab_type": "text"
      },
      "source": [
        "<a href=\"https://colab.research.google.com/github/Vitaly-lv/DS2022/blob/main/HW1_NN_%D0%9B%D0%B5%D0%BE%D0%BD%D1%82%D1%8C%D0%B5%D0%B2%D0%92%D0%92.ipynb\" target=\"_parent\"><img src=\"https://colab.research.google.com/assets/colab-badge.svg\" alt=\"Open In Colab\"/></a>"
      ]
    },
    {
      "cell_type": "code",
      "execution_count": null,
      "id": "451a9a81",
      "metadata": {
        "id": "451a9a81"
      },
      "outputs": [],
      "source": [
        "# Task 1\n",
        "# Find the roots of square equation by gradient descent\n",
        "# x ** 2 - 6 * x + 4 = 0"
      ]
    },
    {
      "cell_type": "markdown",
      "id": "b1cb38fd",
      "metadata": {
        "id": "b1cb38fd"
      },
      "source": [
        "возвести в квадрат: (x ** 2 - 6 * x + 4)^2 = 0\n",
        "посчитать производную:  2 * (x ** 2 - 6 * x + 4) * (2 * x - 6)"
      ]
    },
    {
      "cell_type": "code",
      "execution_count": null,
      "id": "3196c5d2",
      "metadata": {
        "id": "3196c5d2"
      },
      "outputs": [],
      "source": [
        "def deriv(x):\n",
        "    return 2 * (x ** 2 - 6 * x + 4) * (2 * x - 6)"
      ]
    },
    {
      "cell_type": "markdown",
      "id": "6ca10182",
      "metadata": {
        "id": "6ca10182"
      },
      "source": [
        "надо начать движение от начальной точки в направлении антиградиента с заданным шагом\n",
        "x = x - lr * grad(x):\n",
        "уровнение x ** 2 - 6 * x + 4 = 0 имеет два корня:\n",
        "5.2361...\n",
        "0.7639...\n",
        "что является двумя глобальными минимумами функции у = (x ** 2 - 6 * x + 4)^2\n",
        "при этом от -∞ до 0.7639... - функция убывает (производная отрицательная) \n",
        "от 0.7639... до 3 - функция возрастает(производная положительная) \n",
        "при  х = 3 - локальный максимум (производная = 0)\n",
        "от 3 до 5.2361...- функция убывает(производная отрицательная) \n",
        "от 5.2361.. до +∞ функция возрастает(производная положительная)"
      ]
    },
    {
      "cell_type": "code",
      "execution_count": null,
      "id": "f0f69f11",
      "metadata": {
        "id": "f0f69f11"
      },
      "outputs": [],
      "source": [
        "# для нахождения корней уровнения создадим функцию по этим условиям:\n",
        "def find_root(x, lr, num_step, alpha = 0.0001):\n",
        "    grad = deriv(x)\n",
        "    if grad > 0:\n",
        "        for _ in range(num_step):\n",
        "            grad = deriv(x)\n",
        "            if grad < alpha:\n",
        "                return x\n",
        "            x -= lr * grad\n",
        "    elif grad == 0:\n",
        "        x -= lr\n",
        "        for _ in range(num_step):\n",
        "            grad = deriv(x)\n",
        "            if grad < alpha:\n",
        "                return x\n",
        "            x -= lr * grad        \n",
        "    else:\n",
        "        for _ in range(num_step):\n",
        "            grad = deriv(x)\n",
        "            if abs(grad) < alpha:\n",
        "                return x\n",
        "            x += -(lr * grad)"
      ]
    },
    {
      "cell_type": "code",
      "execution_count": null,
      "id": "74362339",
      "metadata": {
        "id": "74362339",
        "outputId": "4017b6dd-6a36-481a-fd92-11d75f5ca7ae",
        "colab": {
          "base_uri": "https://localhost:8080/"
        }
      },
      "outputs": [
        {
          "output_type": "execute_result",
          "data": {
            "text/plain": [
              "0.7639295338873145"
            ]
          },
          "metadata": {},
          "execution_count": 3
        }
      ],
      "source": [
        "# возьмем начало в точке х = 0, lr = 0.0002, кол-во шагов = 10000, для нахождения 1 корня\n",
        "find_root(0, 0.0002, 10000)"
      ]
    },
    {
      "cell_type": "markdown",
      "id": "4ad6fa6a",
      "metadata": {
        "id": "4ad6fa6a"
      },
      "source": [
        "всегда ли сойдемся за приемлемое количество шагов? как вляет ЛР?"
      ]
    },
    {
      "cell_type": "code",
      "execution_count": null,
      "id": "ac129790",
      "metadata": {
        "id": "ac129790",
        "outputId": "f6d50d5f-3998-4ed0-b5e3-10f317b68092",
        "colab": {
          "base_uri": "https://localhost:8080/",
          "height": 283
        }
      },
      "outputs": [
        {
          "output_type": "error",
          "ename": "OverflowError",
          "evalue": "ignored",
          "traceback": [
            "\u001b[0;31m---------------------------------------------------------------------------\u001b[0m",
            "\u001b[0;31mOverflowError\u001b[0m                             Traceback (most recent call last)",
            "\u001b[0;32m<ipython-input-4-fe18bf5cb18f>\u001b[0m in \u001b[0;36m<module>\u001b[0;34m\u001b[0m\n\u001b[1;32m      1\u001b[0m \u001b[0;31m# если взять большой шаг, например,  lr = 0.2,градиент не сойдется в минимуме\u001b[0m\u001b[0;34m\u001b[0m\u001b[0;34m\u001b[0m\u001b[0;34m\u001b[0m\u001b[0m\n\u001b[0;32m----> 2\u001b[0;31m \u001b[0mfind_root\u001b[0m\u001b[0;34m(\u001b[0m\u001b[0;36m0\u001b[0m\u001b[0;34m,\u001b[0m \u001b[0;36m0.2\u001b[0m\u001b[0;34m,\u001b[0m \u001b[0;36m10000\u001b[0m\u001b[0;34m)\u001b[0m\u001b[0;34m\u001b[0m\u001b[0;34m\u001b[0m\u001b[0m\n\u001b[0m",
            "\u001b[0;32m<ipython-input-2-06cfa01c06a2>\u001b[0m in \u001b[0;36mfind_root\u001b[0;34m(x, lr, num_step, alpha)\u001b[0m\n\u001b[1;32m     17\u001b[0m     \u001b[0;32melse\u001b[0m\u001b[0;34m:\u001b[0m\u001b[0;34m\u001b[0m\u001b[0;34m\u001b[0m\u001b[0m\n\u001b[1;32m     18\u001b[0m         \u001b[0;32mfor\u001b[0m \u001b[0m_\u001b[0m \u001b[0;32min\u001b[0m \u001b[0mrange\u001b[0m\u001b[0;34m(\u001b[0m\u001b[0mnum_step\u001b[0m\u001b[0;34m)\u001b[0m\u001b[0;34m:\u001b[0m\u001b[0;34m\u001b[0m\u001b[0;34m\u001b[0m\u001b[0m\n\u001b[0;32m---> 19\u001b[0;31m             \u001b[0mgrad\u001b[0m \u001b[0;34m=\u001b[0m \u001b[0mderiv\u001b[0m\u001b[0;34m(\u001b[0m\u001b[0mx\u001b[0m\u001b[0;34m)\u001b[0m\u001b[0;34m\u001b[0m\u001b[0;34m\u001b[0m\u001b[0m\n\u001b[0m\u001b[1;32m     20\u001b[0m             \u001b[0;32mif\u001b[0m \u001b[0mabs\u001b[0m\u001b[0;34m(\u001b[0m\u001b[0mgrad\u001b[0m\u001b[0;34m)\u001b[0m \u001b[0;34m<\u001b[0m \u001b[0malpha\u001b[0m\u001b[0;34m:\u001b[0m\u001b[0;34m\u001b[0m\u001b[0;34m\u001b[0m\u001b[0m\n\u001b[1;32m     21\u001b[0m                 \u001b[0;32mreturn\u001b[0m \u001b[0mx\u001b[0m\u001b[0;34m\u001b[0m\u001b[0;34m\u001b[0m\u001b[0m\n",
            "\u001b[0;32m<ipython-input-1-aa0ea58bbaab>\u001b[0m in \u001b[0;36mderiv\u001b[0;34m(x)\u001b[0m\n\u001b[1;32m      1\u001b[0m \u001b[0;32mdef\u001b[0m \u001b[0mderiv\u001b[0m\u001b[0;34m(\u001b[0m\u001b[0mx\u001b[0m\u001b[0;34m)\u001b[0m\u001b[0;34m:\u001b[0m\u001b[0;34m\u001b[0m\u001b[0;34m\u001b[0m\u001b[0m\n\u001b[0;32m----> 2\u001b[0;31m     \u001b[0;32mreturn\u001b[0m \u001b[0;36m2\u001b[0m \u001b[0;34m*\u001b[0m \u001b[0;34m(\u001b[0m\u001b[0mx\u001b[0m \u001b[0;34m**\u001b[0m \u001b[0;36m2\u001b[0m \u001b[0;34m-\u001b[0m \u001b[0;36m6\u001b[0m \u001b[0;34m*\u001b[0m \u001b[0mx\u001b[0m \u001b[0;34m+\u001b[0m \u001b[0;36m4\u001b[0m\u001b[0;34m)\u001b[0m \u001b[0;34m*\u001b[0m \u001b[0;34m(\u001b[0m\u001b[0;36m2\u001b[0m \u001b[0;34m*\u001b[0m \u001b[0mx\u001b[0m \u001b[0;34m-\u001b[0m \u001b[0;36m6\u001b[0m\u001b[0;34m)\u001b[0m\u001b[0;34m\u001b[0m\u001b[0;34m\u001b[0m\u001b[0m\n\u001b[0m",
            "\u001b[0;31mOverflowError\u001b[0m: (34, 'Numerical result out of range')"
          ]
        }
      ],
      "source": [
        "# если взять большой шаг, например,  lr = 0.2,градиент не сойдется в минимуме \n",
        "find_root(0, 0.2, 10000)"
      ]
    },
    {
      "cell_type": "markdown",
      "id": "ff1840b2",
      "metadata": {
        "id": "ff1840b2"
      },
      "source": [
        "важна ли начальная точка?\n",
        "при х = 3 - локальный максимум, поэтому либо нужно сдвигаться влево (будет нахождение 1 корня, либо вправо - нахождение 2 корня),в  реализуемом алгоритме - сдвиг влево (находится 1 корень):"
      ]
    },
    {
      "cell_type": "code",
      "execution_count": null,
      "id": "5b2e90d0",
      "metadata": {
        "id": "5b2e90d0",
        "outputId": "8a004a74-f6d0-4284-8030-224983244ff5",
        "colab": {
          "base_uri": "https://localhost:8080/"
        }
      },
      "outputs": [
        {
          "output_type": "execute_result",
          "data": {
            "text/plain": [
              "0.7639332395861235"
            ]
          },
          "metadata": {},
          "execution_count": 5
        }
      ],
      "source": [
        "find_root(3, 0.02, 10000)"
      ]
    },
    {
      "cell_type": "markdown",
      "id": "2734aaaa",
      "metadata": {
        "id": "2734aaaa"
      },
      "source": [
        "как найти второй корень?\n",
        "необходимо взять точку х > 3"
      ]
    },
    {
      "cell_type": "code",
      "execution_count": null,
      "id": "0bab84ee",
      "metadata": {
        "id": "0bab84ee",
        "outputId": "2dce9d69-cc82-473b-dc66-41caabf22695",
        "colab": {
          "base_uri": "https://localhost:8080/"
        }
      },
      "outputs": [
        {
          "output_type": "execute_result",
          "data": {
            "text/plain": [
              "5.236066257140256"
            ]
          },
          "metadata": {},
          "execution_count": 6
        }
      ],
      "source": [
        "find_root(3.1, 0.02, 10000)"
      ]
    },
    {
      "cell_type": "code",
      "execution_count": null,
      "id": "712e2334",
      "metadata": {
        "id": "712e2334",
        "outputId": "e876b73c-78c3-4ff1-c6bd-94b580b49e74",
        "colab": {
          "base_uri": "https://localhost:8080/"
        }
      },
      "outputs": [
        {
          "output_type": "execute_result",
          "data": {
            "text/plain": [
              "5.236070445877092"
            ]
          },
          "metadata": {},
          "execution_count": 7
        }
      ],
      "source": [
        "find_root(6, 0.002, 10000)"
      ]
    },
    {
      "cell_type": "markdown",
      "id": "669df244",
      "metadata": {
        "id": "669df244"
      },
      "source": [
        " Task 2\n",
        "Realize forward and backward pass for linear layer with sigmoid activation\n",
        "Написать на PyTorch forward и backward полносвязного слоя без использования autograd"
      ]
    },
    {
      "cell_type": "code",
      "execution_count": null,
      "id": "a594dddd",
      "metadata": {
        "id": "a594dddd"
      },
      "outputs": [],
      "source": [
        "import torch\n",
        "import torch.nn as nn"
      ]
    },
    {
      "cell_type": "code",
      "source": [
        "class Net(nn.Module):\n",
        "    def __init__(self, input_size, hidden_size, num_classes):\n",
        "        super(Net, self).__init__()\n",
        "        self.linear1 = nn.Linear(input_size, hidden_size)\n",
        "        self.activation = nn.Sigmoid()\n",
        "        self.linear2 = nn.Linear(hidden_size, num_classes)\n",
        "\n",
        "    def forward(self, x):\n",
        "        x = self.linear1(x)\n",
        "        x = self.activation(x)\n",
        "        x = self.linear2(x)\n",
        "\n",
        "        return x\n",
        " \n",
        "# backward пока не удалось сделать, в целом хотелось бы понять forward правильно написан?\n",
        "#  и с чего начать написание   backward? \n",
        "    def backward(self, grad):\n",
        "       \n"
      ],
      "metadata": {
        "id": "e4vY6J-J8A7u"
      },
      "id": "e4vY6J-J8A7u",
      "execution_count": null,
      "outputs": []
    },
    {
      "cell_type": "code",
      "execution_count": null,
      "id": "1626c9b4",
      "metadata": {
        "id": "1626c9b4"
      },
      "outputs": [],
      "source": [
        "# Task 3\n",
        "# Realize SGD Momentum optimizer\n",
        "# velocity = momentum * velocity - lr * gradient\n",
        "# w = w + velocity\n",
        "# Написать 1-2 адаптивных оптимизатора"
      ]
    },
    {
      "cell_type": "code",
      "source": [
        "import numpy as np"
      ],
      "metadata": {
        "id": "pR4QzMGg75qd"
      },
      "id": "pR4QzMGg75qd",
      "execution_count": null,
      "outputs": []
    },
    {
      "cell_type": "code",
      "source": [
        "# RMSprop\n",
        "\n",
        "class RMSprop:\n",
        "\n",
        "    def __init__(self, num_weight, lr):  \n",
        "        self.rmsprop = [0] * num_weight\n",
        "        self.lr = lr\n",
        "        \n",
        "    def step(self, params, grads, decay_rate = 0.9):\n",
        "        updated_params = []\n",
        "      \n",
        "        for i, (param, grad) in enumerate(zip(params, grads)):\n",
        "            self.rmsprop[i] = decay_rate * self.rmsprop[i] + (1-decay_rate) * grad **2\n",
        "            param += - self.lr * grad / (np.sqrt(self.rmsprop[i])+ 1e-6)\n",
        "            updated_params.append(param)\n",
        "            \n",
        "        return updated_params"
      ],
      "metadata": {
        "id": "xACrXuoQDDqc"
      },
      "id": "xACrXuoQDDqc",
      "execution_count": null,
      "outputs": []
    }
  ],
  "metadata": {
    "kernelspec": {
      "display_name": "Python 3 (ipykernel)",
      "language": "python",
      "name": "python3"
    },
    "language_info": {
      "codemirror_mode": {
        "name": "ipython",
        "version": 3
      },
      "file_extension": ".py",
      "mimetype": "text/x-python",
      "name": "python",
      "nbconvert_exporter": "python",
      "pygments_lexer": "ipython3",
      "version": "3.9.7"
    },
    "colab": {
      "provenance": [],
      "collapsed_sections": [],
      "include_colab_link": true
    }
  },
  "nbformat": 4,
  "nbformat_minor": 5
}