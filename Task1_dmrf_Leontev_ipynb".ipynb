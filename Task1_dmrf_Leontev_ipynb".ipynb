{
  "cells": [
    {
      "cell_type": "markdown",
      "metadata": {
        "id": "view-in-github",
        "colab_type": "text"
      },
      "source": [
        "<a href=\"https://colab.research.google.com/github/Vitaly-lv/DS2022/blob/main/Task1_dmrf_Leontev_ipynb%22.ipynb\" target=\"_parent\"><img src=\"https://colab.research.google.com/assets/colab-badge.svg\" alt=\"Open In Colab\"/></a>"
      ]
    },
    {
      "cell_type": "markdown",
      "source": [
        "[![Open In Colab](https://colab.research.google.com/assets/colab-badge.svg)](https://colab.research.google.com/github/ds-reboot/python-first-part/blob/main/notebooks/hometasks/Task1_dmrf.ipynb)"
      ],
      "metadata": {
        "collapsed": false,
        "pycharm": {
          "name": "#%% md\n"
        },
        "id": "6dAuOwPu-DZM"
      }
    },
    {
      "cell_type": "markdown",
      "source": [
        "# Задание\n",
        "* Собрать информацию о всех строящихся объектах на сайте \"наш.дом.рф\"\n",
        "* Cохранить ее в pandas dataframe\n",
        "* Cохранить pandas dataframe в excel\n",
        "* Cохранить pandas dataframe в pickle\n",
        "* Cохранить pandas dataframe в БД\n",
        "\n",
        "# Задание *\n",
        "* Написать скрипт, который скачивает фотографии всех строящихся объектов с сайта \"наш.дом.рф\"\n"
      ],
      "metadata": {
        "collapsed": false,
        "pycharm": {
          "name": "#%% md\n"
        },
        "id": "7AYTHneb-DZS"
      }
    },
    {
      "cell_type": "code",
      "execution_count": 1,
      "outputs": [],
      "source": [
        "import requests"
      ],
      "metadata": {
        "pycharm": {
          "name": "#%%\n"
        },
        "id": "9LROT6VQ-DZU"
      }
    },
    {
      "cell_type": "markdown",
      "source": [
        "## Список объектов"
      ],
      "metadata": {
        "collapsed": false,
        "pycharm": {
          "name": "#%% md\n"
        },
        "id": "8mPVSFVo-DZW"
      }
    },
    {
      "cell_type": "code",
      "execution_count": 26,
      "outputs": [],
      "source": [
        "# Cкачивания данных в 3 этапа: 5000+5000+591, с offset - 0, 5000, 10000\n",
        "\n",
        "offset_ = 5000\n",
        "limit_ = 5000\n",
        "url = f'https://xn--80az8a.xn--d1aqf.xn--p1ai/%D1%81%D0%B5%D1%80%D0%B2%D0%B8%D1%81%D1%8B/api/kn/object?offset={offset_}&limit={limit_}&sortField=devId.devShortCleanNm&sortType=asc&objStatus=0'\n",
        "res = requests.get(url)\n",
        "objects_data = res.json()"
      ],
      "metadata": {
        "pycharm": {
          "name": "#%%\n"
        },
        "id": "ZomGUQ3e-DZX"
      }
    },
    {
      "cell_type": "code",
      "source": [
        "objects_list = objects_data.get('data').get('list')\n",
        "objids = [x.get('objId') for x in objects_list]"
      ],
      "metadata": {
        "id": "vOAxs2GkN6Ls"
      },
      "execution_count": 27,
      "outputs": []
    },
    {
      "cell_type": "code",
      "source": [
        "#сохраняем список первых 5000 строк\n",
        "objids1 = objids"
      ],
      "metadata": {
        "id": "paIPeUDeN6cM"
      },
      "execution_count": 6,
      "outputs": []
    },
    {
      "cell_type": "code",
      "source": [
        "#сохраняем список вторых 5000 строк\n",
        "objids2 = objids"
      ],
      "metadata": {
        "id": "WuYqSssBPdiu"
      },
      "execution_count": 28,
      "outputs": []
    },
    {
      "cell_type": "code",
      "source": [
        "#сохраняем список последних 591 строки\n",
        "objids3 = objids"
      ],
      "metadata": {
        "id": "TIglCtDnQG9F"
      },
      "execution_count": 25,
      "outputs": []
    },
    {
      "cell_type": "code",
      "execution_count": 30,
      "outputs": [],
      "source": [
        "# объединяем все списки\n",
        "objids_all = objids1 + objids2 + objids3"
      ],
      "metadata": {
        "pycharm": {
          "name": "#%%\n"
        },
        "id": "0Idz8vj--DZY"
      }
    },
    {
      "cell_type": "code",
      "source": [
        "len(objids_all)"
      ],
      "metadata": {
        "colab": {
          "base_uri": "https://localhost:8080/"
        },
        "id": "_r5OUWi4nfq6",
        "outputId": "03bede33-ee11-4c02-ef84-38e7f4ac4fed"
      },
      "execution_count": 31,
      "outputs": [
        {
          "output_type": "execute_result",
          "data": {
            "text/plain": [
              "10591"
            ]
          },
          "metadata": {},
          "execution_count": 31
        }
      ]
    },
    {
      "cell_type": "code",
      "execution_count": 32,
      "outputs": [],
      "source": [
        "import pandas as pd"
      ],
      "metadata": {
        "pycharm": {
          "name": "#%%\n"
        },
        "id": "ufxc02Al-DZd"
      }
    },
    {
      "cell_type": "code",
      "source": [
        "from tqdm.auto import tqdm"
      ],
      "metadata": {
        "id": "Ugn_xujk_bCA"
      },
      "execution_count": 33,
      "outputs": []
    },
    {
      "cell_type": "code",
      "execution_count": 34,
      "outputs": [
        {
          "output_type": "display_data",
          "data": {
            "text/plain": [
              "  0%|          | 0/10591 [00:00<?, ?it/s]"
            ],
            "application/vnd.jupyter.widget-view+json": {
              "version_major": 2,
              "version_minor": 0,
              "model_id": "d5c9b4fb75f14e12b529fb000db71394"
            }
          },
          "metadata": {}
        }
      ],
      "source": [
        "# формируем строки таблицы по Id\n",
        "d = []\n",
        "for obj in tqdm(objids_all):\n",
        "  url = f'https://xn--80az8a.xn--d1aqf.xn--p1ai/%D1%81%D0%B5%D1%80%D0%B2%D0%B8%D1%81%D1%8B/api/object/{obj}'\n",
        "  res = requests.get(url)\n",
        "  d.append(res.json())"
      ],
      "metadata": {
        "pycharm": {
          "name": "#%%\n"
        },
        "id": "raJgTrGw-DZd",
        "colab": {
          "base_uri": "https://localhost:8080/",
          "height": 49,
          "referenced_widgets": [
            "d5c9b4fb75f14e12b529fb000db71394",
            "c5e33d71bdc44410921b12732cd86351",
            "d8733397c43e411c953defbac4535f28",
            "1936b0a06f5c4caa9c1282c4cdc5309f",
            "fe1b292fba784ce6a3865bbdda3442c1",
            "ac133e57697a444fbc974d6aa85edf55",
            "56c7cb84431342ba95b26cd1227edcf5",
            "ec49b2ea941b4fe1ab2124b71c1e5102",
            "ece5bee2eb38403694b442db5779d673",
            "35f3de362a2b4c33a0baaf8658582832",
            "45c499160d8d476da2723b5d22ea3cec"
          ]
        },
        "outputId": "db74519e-f488-40bf-e04b-22e10b0727f3"
      }
    },
    {
      "cell_type": "code",
      "source": [
        "len(d)"
      ],
      "metadata": {
        "colab": {
          "base_uri": "https://localhost:8080/"
        },
        "id": "ipkfTLKVCUd9",
        "outputId": "ca310738-5208-4740-8e73-309c3520ada5"
      },
      "execution_count": 35,
      "outputs": [
        {
          "output_type": "execute_result",
          "data": {
            "text/plain": [
              "10591"
            ]
          },
          "metadata": {},
          "execution_count": 35
        }
      ]
    },
    {
      "cell_type": "code",
      "source": [
        "pd.json_normalize(d)"
      ],
      "metadata": {
        "colab": {
          "base_uri": "https://localhost:8080/",
          "height": 557
        },
        "id": "uc8w8epTCX4P",
        "outputId": "a555a465-8619-4c8a-bef6-81e1deab0d85"
      },
      "execution_count": 36,
      "outputs": [
        {
          "output_type": "execute_result",
          "data": {
            "text/plain": [
              "      errcode  data.id  data.pdId  data.developer.devId  \\\n",
              "0           0    29679     124647                  7424   \n",
              "1           0    13391      28101                   306   \n",
              "2           0    13397      28141                   306   \n",
              "3           0    13398      28141                   306   \n",
              "4           0    13399      28141                   306   \n",
              "...       ...      ...        ...                   ...   \n",
              "10586       0    28073      96446                  7344   \n",
              "10587       0    28072      96379                  7344   \n",
              "10588       0    28074      96537                  7344   \n",
              "10589       0    44447     475093                  2538   \n",
              "10590       0    45321     516648                  2912   \n",
              "\n",
              "      data.developer.devShortCleanNm data.developer.devShortNm  \\\n",
              "0                              212-2                     212-2   \n",
              "1                         2МЕН ГРУПП                2МЕН ГРУПП   \n",
              "2                         2МЕН ГРУПП                2МЕН ГРУПП   \n",
              "3                         2МЕН ГРУПП                2МЕН ГРУПП   \n",
              "4                         2МЕН ГРУПП                2МЕН ГРУПП   \n",
              "...                              ...                       ...   \n",
              "10586                      ЯРКИЙ МИР                 ЯРКИЙ МИР   \n",
              "10587                      ЯРКИЙ МИР                 ЯРКИЙ МИР   \n",
              "10588                      ЯРКИЙ МИР                 ЯРКИЙ МИР   \n",
              "10589              ЯРОСЛАВЛЬЗАКАЗЧИК         ЯРОСЛАВЛЬЗАКАЗЧИК   \n",
              "10590         ‹‹СЗ ‹‹СТРОЙ-НАДЕЖДА››    ‹‹СЗ ‹‹СТРОЙ-НАДЕЖДА››   \n",
              "\n",
              "                           data.developer.devFullCleanNm  \\\n",
              "0                                                  212-2   \n",
              "1                                             2МЕН ГРУПП   \n",
              "2                                             2МЕН ГРУПП   \n",
              "3                                             2МЕН ГРУПП   \n",
              "4                                             2МЕН ГРУПП   \n",
              "...                                                  ...   \n",
              "10586                                          ЯРКИЙ МИР   \n",
              "10587                                          ЯРКИЙ МИР   \n",
              "10588                                          ЯРКИЙ МИР   \n",
              "10589    СПЕЦИАЛИЗИРОВАННЫЙ ЗАСТРОЙЩИК ЯРОСЛАВЛЬЗАКАЗЧИК   \n",
              "10590  ‹‹СПЕЦИАЛИЗИРОВАННЫЙ ЗАСТРОЙЩИК ‹‹СТРОЙ-НАДЕЖДА››   \n",
              "\n",
              "       data.developer.problObjCnt  data.developer.buildObjCnt  \\\n",
              "0                               0                           1   \n",
              "1                               0                           5   \n",
              "2                               0                           5   \n",
              "3                               0                           5   \n",
              "4                               0                           5   \n",
              "...                           ...                         ...   \n",
              "10586                           0                           5   \n",
              "10587                           0                           5   \n",
              "10588                           0                           5   \n",
              "10589                           0                           1   \n",
              "10590                           0                           1   \n",
              "\n",
              "       data.developer.comissObjCnt  ...  \\\n",
              "0                                0  ...   \n",
              "1                                0  ...   \n",
              "2                                0  ...   \n",
              "3                                0  ...   \n",
              "4                                0  ...   \n",
              "...                            ...  ...   \n",
              "10586                            0  ...   \n",
              "10587                            0  ...   \n",
              "10588                            0  ...   \n",
              "10589                            3  ...   \n",
              "10590                            7  ...   \n",
              "\n",
              "      data.developer.bankruptStage.bankruptStageDesc  \\\n",
              "0                                                NaN   \n",
              "1                                                NaN   \n",
              "2                                                NaN   \n",
              "3                                                NaN   \n",
              "4                                                NaN   \n",
              "...                                              ...   \n",
              "10586                                            NaN   \n",
              "10587                                            NaN   \n",
              "10588                                            NaN   \n",
              "10589                                            NaN   \n",
              "10590                                            NaN   \n",
              "\n",
              "      data.developer.bankruptStage.bankruptLawUrl  \\\n",
              "0                                             NaN   \n",
              "1                                             NaN   \n",
              "2                                             NaN   \n",
              "3                                             NaN   \n",
              "4                                             NaN   \n",
              "...                                           ...   \n",
              "10586                                         NaN   \n",
              "10587                                         NaN   \n",
              "10588                                         NaN   \n",
              "10589                                         NaN   \n",
              "10590                                         NaN   \n",
              "\n",
              "      data.developer.orgBankruptMsgDttm data.metro.id data.metro.name  \\\n",
              "0                                   NaN           NaN             NaN   \n",
              "1                                   NaN           NaN             NaN   \n",
              "2                                   NaN           NaN             NaN   \n",
              "3                                   NaN           NaN             NaN   \n",
              "4                                   NaN           NaN             NaN   \n",
              "...                                 ...           ...             ...   \n",
              "10586                               NaN           NaN             NaN   \n",
              "10587                               NaN           NaN             NaN   \n",
              "10588                               NaN           NaN             NaN   \n",
              "10589                               NaN           NaN             NaN   \n",
              "10590                               NaN           NaN             NaN   \n",
              "\n",
              "      data.metro.line data.metro.color data.metro.time data.metro.isWalk  \\\n",
              "0                 NaN              NaN             NaN               NaN   \n",
              "1                 NaN              NaN             NaN               NaN   \n",
              "2                 NaN              NaN             NaN               NaN   \n",
              "3                 NaN              NaN             NaN               NaN   \n",
              "4                 NaN              NaN             NaN               NaN   \n",
              "...               ...              ...             ...               ...   \n",
              "10586             NaN              NaN             NaN               NaN   \n",
              "10587             NaN              NaN             NaN               NaN   \n",
              "10588             NaN              NaN             NaN               NaN   \n",
              "10589             NaN              NaN             NaN               NaN   \n",
              "10590             NaN              NaN             NaN               NaN   \n",
              "\n",
              "       data.metro.colors  \n",
              "0                    NaN  \n",
              "1                    NaN  \n",
              "2                    NaN  \n",
              "3                    NaN  \n",
              "4                    NaN  \n",
              "...                  ...  \n",
              "10586                NaN  \n",
              "10587                NaN  \n",
              "10588                NaN  \n",
              "10589                NaN  \n",
              "10590                NaN  \n",
              "\n",
              "[10591 rows x 109 columns]"
            ],
            "text/html": [
              "\n",
              "  <div id=\"df-4790ff08-8bb9-4d32-83ed-52321ef3738d\">\n",
              "    <div class=\"colab-df-container\">\n",
              "      <div>\n",
              "<style scoped>\n",
              "    .dataframe tbody tr th:only-of-type {\n",
              "        vertical-align: middle;\n",
              "    }\n",
              "\n",
              "    .dataframe tbody tr th {\n",
              "        vertical-align: top;\n",
              "    }\n",
              "\n",
              "    .dataframe thead th {\n",
              "        text-align: right;\n",
              "    }\n",
              "</style>\n",
              "<table border=\"1\" class=\"dataframe\">\n",
              "  <thead>\n",
              "    <tr style=\"text-align: right;\">\n",
              "      <th></th>\n",
              "      <th>errcode</th>\n",
              "      <th>data.id</th>\n",
              "      <th>data.pdId</th>\n",
              "      <th>data.developer.devId</th>\n",
              "      <th>data.developer.devShortCleanNm</th>\n",
              "      <th>data.developer.devShortNm</th>\n",
              "      <th>data.developer.devFullCleanNm</th>\n",
              "      <th>data.developer.problObjCnt</th>\n",
              "      <th>data.developer.buildObjCnt</th>\n",
              "      <th>data.developer.comissObjCnt</th>\n",
              "      <th>...</th>\n",
              "      <th>data.developer.bankruptStage.bankruptStageDesc</th>\n",
              "      <th>data.developer.bankruptStage.bankruptLawUrl</th>\n",
              "      <th>data.developer.orgBankruptMsgDttm</th>\n",
              "      <th>data.metro.id</th>\n",
              "      <th>data.metro.name</th>\n",
              "      <th>data.metro.line</th>\n",
              "      <th>data.metro.color</th>\n",
              "      <th>data.metro.time</th>\n",
              "      <th>data.metro.isWalk</th>\n",
              "      <th>data.metro.colors</th>\n",
              "    </tr>\n",
              "  </thead>\n",
              "  <tbody>\n",
              "    <tr>\n",
              "      <th>0</th>\n",
              "      <td>0</td>\n",
              "      <td>29679</td>\n",
              "      <td>124647</td>\n",
              "      <td>7424</td>\n",
              "      <td>212-2</td>\n",
              "      <td>212-2</td>\n",
              "      <td>212-2</td>\n",
              "      <td>0</td>\n",
              "      <td>1</td>\n",
              "      <td>0</td>\n",
              "      <td>...</td>\n",
              "      <td>NaN</td>\n",
              "      <td>NaN</td>\n",
              "      <td>NaN</td>\n",
              "      <td>NaN</td>\n",
              "      <td>NaN</td>\n",
              "      <td>NaN</td>\n",
              "      <td>NaN</td>\n",
              "      <td>NaN</td>\n",
              "      <td>NaN</td>\n",
              "      <td>NaN</td>\n",
              "    </tr>\n",
              "    <tr>\n",
              "      <th>1</th>\n",
              "      <td>0</td>\n",
              "      <td>13391</td>\n",
              "      <td>28101</td>\n",
              "      <td>306</td>\n",
              "      <td>2МЕН ГРУПП</td>\n",
              "      <td>2МЕН ГРУПП</td>\n",
              "      <td>2МЕН ГРУПП</td>\n",
              "      <td>0</td>\n",
              "      <td>5</td>\n",
              "      <td>0</td>\n",
              "      <td>...</td>\n",
              "      <td>NaN</td>\n",
              "      <td>NaN</td>\n",
              "      <td>NaN</td>\n",
              "      <td>NaN</td>\n",
              "      <td>NaN</td>\n",
              "      <td>NaN</td>\n",
              "      <td>NaN</td>\n",
              "      <td>NaN</td>\n",
              "      <td>NaN</td>\n",
              "      <td>NaN</td>\n",
              "    </tr>\n",
              "    <tr>\n",
              "      <th>2</th>\n",
              "      <td>0</td>\n",
              "      <td>13397</td>\n",
              "      <td>28141</td>\n",
              "      <td>306</td>\n",
              "      <td>2МЕН ГРУПП</td>\n",
              "      <td>2МЕН ГРУПП</td>\n",
              "      <td>2МЕН ГРУПП</td>\n",
              "      <td>0</td>\n",
              "      <td>5</td>\n",
              "      <td>0</td>\n",
              "      <td>...</td>\n",
              "      <td>NaN</td>\n",
              "      <td>NaN</td>\n",
              "      <td>NaN</td>\n",
              "      <td>NaN</td>\n",
              "      <td>NaN</td>\n",
              "      <td>NaN</td>\n",
              "      <td>NaN</td>\n",
              "      <td>NaN</td>\n",
              "      <td>NaN</td>\n",
              "      <td>NaN</td>\n",
              "    </tr>\n",
              "    <tr>\n",
              "      <th>3</th>\n",
              "      <td>0</td>\n",
              "      <td>13398</td>\n",
              "      <td>28141</td>\n",
              "      <td>306</td>\n",
              "      <td>2МЕН ГРУПП</td>\n",
              "      <td>2МЕН ГРУПП</td>\n",
              "      <td>2МЕН ГРУПП</td>\n",
              "      <td>0</td>\n",
              "      <td>5</td>\n",
              "      <td>0</td>\n",
              "      <td>...</td>\n",
              "      <td>NaN</td>\n",
              "      <td>NaN</td>\n",
              "      <td>NaN</td>\n",
              "      <td>NaN</td>\n",
              "      <td>NaN</td>\n",
              "      <td>NaN</td>\n",
              "      <td>NaN</td>\n",
              "      <td>NaN</td>\n",
              "      <td>NaN</td>\n",
              "      <td>NaN</td>\n",
              "    </tr>\n",
              "    <tr>\n",
              "      <th>4</th>\n",
              "      <td>0</td>\n",
              "      <td>13399</td>\n",
              "      <td>28141</td>\n",
              "      <td>306</td>\n",
              "      <td>2МЕН ГРУПП</td>\n",
              "      <td>2МЕН ГРУПП</td>\n",
              "      <td>2МЕН ГРУПП</td>\n",
              "      <td>0</td>\n",
              "      <td>5</td>\n",
              "      <td>0</td>\n",
              "      <td>...</td>\n",
              "      <td>NaN</td>\n",
              "      <td>NaN</td>\n",
              "      <td>NaN</td>\n",
              "      <td>NaN</td>\n",
              "      <td>NaN</td>\n",
              "      <td>NaN</td>\n",
              "      <td>NaN</td>\n",
              "      <td>NaN</td>\n",
              "      <td>NaN</td>\n",
              "      <td>NaN</td>\n",
              "    </tr>\n",
              "    <tr>\n",
              "      <th>...</th>\n",
              "      <td>...</td>\n",
              "      <td>...</td>\n",
              "      <td>...</td>\n",
              "      <td>...</td>\n",
              "      <td>...</td>\n",
              "      <td>...</td>\n",
              "      <td>...</td>\n",
              "      <td>...</td>\n",
              "      <td>...</td>\n",
              "      <td>...</td>\n",
              "      <td>...</td>\n",
              "      <td>...</td>\n",
              "      <td>...</td>\n",
              "      <td>...</td>\n",
              "      <td>...</td>\n",
              "      <td>...</td>\n",
              "      <td>...</td>\n",
              "      <td>...</td>\n",
              "      <td>...</td>\n",
              "      <td>...</td>\n",
              "      <td>...</td>\n",
              "    </tr>\n",
              "    <tr>\n",
              "      <th>10586</th>\n",
              "      <td>0</td>\n",
              "      <td>28073</td>\n",
              "      <td>96446</td>\n",
              "      <td>7344</td>\n",
              "      <td>ЯРКИЙ МИР</td>\n",
              "      <td>ЯРКИЙ МИР</td>\n",
              "      <td>ЯРКИЙ МИР</td>\n",
              "      <td>0</td>\n",
              "      <td>5</td>\n",
              "      <td>0</td>\n",
              "      <td>...</td>\n",
              "      <td>NaN</td>\n",
              "      <td>NaN</td>\n",
              "      <td>NaN</td>\n",
              "      <td>NaN</td>\n",
              "      <td>NaN</td>\n",
              "      <td>NaN</td>\n",
              "      <td>NaN</td>\n",
              "      <td>NaN</td>\n",
              "      <td>NaN</td>\n",
              "      <td>NaN</td>\n",
              "    </tr>\n",
              "    <tr>\n",
              "      <th>10587</th>\n",
              "      <td>0</td>\n",
              "      <td>28072</td>\n",
              "      <td>96379</td>\n",
              "      <td>7344</td>\n",
              "      <td>ЯРКИЙ МИР</td>\n",
              "      <td>ЯРКИЙ МИР</td>\n",
              "      <td>ЯРКИЙ МИР</td>\n",
              "      <td>0</td>\n",
              "      <td>5</td>\n",
              "      <td>0</td>\n",
              "      <td>...</td>\n",
              "      <td>NaN</td>\n",
              "      <td>NaN</td>\n",
              "      <td>NaN</td>\n",
              "      <td>NaN</td>\n",
              "      <td>NaN</td>\n",
              "      <td>NaN</td>\n",
              "      <td>NaN</td>\n",
              "      <td>NaN</td>\n",
              "      <td>NaN</td>\n",
              "      <td>NaN</td>\n",
              "    </tr>\n",
              "    <tr>\n",
              "      <th>10588</th>\n",
              "      <td>0</td>\n",
              "      <td>28074</td>\n",
              "      <td>96537</td>\n",
              "      <td>7344</td>\n",
              "      <td>ЯРКИЙ МИР</td>\n",
              "      <td>ЯРКИЙ МИР</td>\n",
              "      <td>ЯРКИЙ МИР</td>\n",
              "      <td>0</td>\n",
              "      <td>5</td>\n",
              "      <td>0</td>\n",
              "      <td>...</td>\n",
              "      <td>NaN</td>\n",
              "      <td>NaN</td>\n",
              "      <td>NaN</td>\n",
              "      <td>NaN</td>\n",
              "      <td>NaN</td>\n",
              "      <td>NaN</td>\n",
              "      <td>NaN</td>\n",
              "      <td>NaN</td>\n",
              "      <td>NaN</td>\n",
              "      <td>NaN</td>\n",
              "    </tr>\n",
              "    <tr>\n",
              "      <th>10589</th>\n",
              "      <td>0</td>\n",
              "      <td>44447</td>\n",
              "      <td>475093</td>\n",
              "      <td>2538</td>\n",
              "      <td>ЯРОСЛАВЛЬЗАКАЗЧИК</td>\n",
              "      <td>ЯРОСЛАВЛЬЗАКАЗЧИК</td>\n",
              "      <td>СПЕЦИАЛИЗИРОВАННЫЙ ЗАСТРОЙЩИК ЯРОСЛАВЛЬЗАКАЗЧИК</td>\n",
              "      <td>0</td>\n",
              "      <td>1</td>\n",
              "      <td>3</td>\n",
              "      <td>...</td>\n",
              "      <td>NaN</td>\n",
              "      <td>NaN</td>\n",
              "      <td>NaN</td>\n",
              "      <td>NaN</td>\n",
              "      <td>NaN</td>\n",
              "      <td>NaN</td>\n",
              "      <td>NaN</td>\n",
              "      <td>NaN</td>\n",
              "      <td>NaN</td>\n",
              "      <td>NaN</td>\n",
              "    </tr>\n",
              "    <tr>\n",
              "      <th>10590</th>\n",
              "      <td>0</td>\n",
              "      <td>45321</td>\n",
              "      <td>516648</td>\n",
              "      <td>2912</td>\n",
              "      <td>‹‹СЗ ‹‹СТРОЙ-НАДЕЖДА››</td>\n",
              "      <td>‹‹СЗ ‹‹СТРОЙ-НАДЕЖДА››</td>\n",
              "      <td>‹‹СПЕЦИАЛИЗИРОВАННЫЙ ЗАСТРОЙЩИК ‹‹СТРОЙ-НАДЕЖДА››</td>\n",
              "      <td>0</td>\n",
              "      <td>1</td>\n",
              "      <td>7</td>\n",
              "      <td>...</td>\n",
              "      <td>NaN</td>\n",
              "      <td>NaN</td>\n",
              "      <td>NaN</td>\n",
              "      <td>NaN</td>\n",
              "      <td>NaN</td>\n",
              "      <td>NaN</td>\n",
              "      <td>NaN</td>\n",
              "      <td>NaN</td>\n",
              "      <td>NaN</td>\n",
              "      <td>NaN</td>\n",
              "    </tr>\n",
              "  </tbody>\n",
              "</table>\n",
              "<p>10591 rows × 109 columns</p>\n",
              "</div>\n",
              "      <button class=\"colab-df-convert\" onclick=\"convertToInteractive('df-4790ff08-8bb9-4d32-83ed-52321ef3738d')\"\n",
              "              title=\"Convert this dataframe to an interactive table.\"\n",
              "              style=\"display:none;\">\n",
              "        \n",
              "  <svg xmlns=\"http://www.w3.org/2000/svg\" height=\"24px\"viewBox=\"0 0 24 24\"\n",
              "       width=\"24px\">\n",
              "    <path d=\"M0 0h24v24H0V0z\" fill=\"none\"/>\n",
              "    <path d=\"M18.56 5.44l.94 2.06.94-2.06 2.06-.94-2.06-.94-.94-2.06-.94 2.06-2.06.94zm-11 1L8.5 8.5l.94-2.06 2.06-.94-2.06-.94L8.5 2.5l-.94 2.06-2.06.94zm10 10l.94 2.06.94-2.06 2.06-.94-2.06-.94-.94-2.06-.94 2.06-2.06.94z\"/><path d=\"M17.41 7.96l-1.37-1.37c-.4-.4-.92-.59-1.43-.59-.52 0-1.04.2-1.43.59L10.3 9.45l-7.72 7.72c-.78.78-.78 2.05 0 2.83L4 21.41c.39.39.9.59 1.41.59.51 0 1.02-.2 1.41-.59l7.78-7.78 2.81-2.81c.8-.78.8-2.07 0-2.86zM5.41 20L4 18.59l7.72-7.72 1.47 1.35L5.41 20z\"/>\n",
              "  </svg>\n",
              "      </button>\n",
              "      \n",
              "  <style>\n",
              "    .colab-df-container {\n",
              "      display:flex;\n",
              "      flex-wrap:wrap;\n",
              "      gap: 12px;\n",
              "    }\n",
              "\n",
              "    .colab-df-convert {\n",
              "      background-color: #E8F0FE;\n",
              "      border: none;\n",
              "      border-radius: 50%;\n",
              "      cursor: pointer;\n",
              "      display: none;\n",
              "      fill: #1967D2;\n",
              "      height: 32px;\n",
              "      padding: 0 0 0 0;\n",
              "      width: 32px;\n",
              "    }\n",
              "\n",
              "    .colab-df-convert:hover {\n",
              "      background-color: #E2EBFA;\n",
              "      box-shadow: 0px 1px 2px rgba(60, 64, 67, 0.3), 0px 1px 3px 1px rgba(60, 64, 67, 0.15);\n",
              "      fill: #174EA6;\n",
              "    }\n",
              "\n",
              "    [theme=dark] .colab-df-convert {\n",
              "      background-color: #3B4455;\n",
              "      fill: #D2E3FC;\n",
              "    }\n",
              "\n",
              "    [theme=dark] .colab-df-convert:hover {\n",
              "      background-color: #434B5C;\n",
              "      box-shadow: 0px 1px 3px 1px rgba(0, 0, 0, 0.15);\n",
              "      filter: drop-shadow(0px 1px 2px rgba(0, 0, 0, 0.3));\n",
              "      fill: #FFFFFF;\n",
              "    }\n",
              "  </style>\n",
              "\n",
              "      <script>\n",
              "        const buttonEl =\n",
              "          document.querySelector('#df-4790ff08-8bb9-4d32-83ed-52321ef3738d button.colab-df-convert');\n",
              "        buttonEl.style.display =\n",
              "          google.colab.kernel.accessAllowed ? 'block' : 'none';\n",
              "\n",
              "        async function convertToInteractive(key) {\n",
              "          const element = document.querySelector('#df-4790ff08-8bb9-4d32-83ed-52321ef3738d');\n",
              "          const dataTable =\n",
              "            await google.colab.kernel.invokeFunction('convertToInteractive',\n",
              "                                                     [key], {});\n",
              "          if (!dataTable) return;\n",
              "\n",
              "          const docLinkHtml = 'Like what you see? Visit the ' +\n",
              "            '<a target=\"_blank\" href=https://colab.research.google.com/notebooks/data_table.ipynb>data table notebook</a>'\n",
              "            + ' to learn more about interactive tables.';\n",
              "          element.innerHTML = '';\n",
              "          dataTable['output_type'] = 'display_data';\n",
              "          await google.colab.output.renderOutput(dataTable, element);\n",
              "          const docLink = document.createElement('div');\n",
              "          docLink.innerHTML = docLinkHtml;\n",
              "          element.appendChild(docLink);\n",
              "        }\n",
              "      </script>\n",
              "    </div>\n",
              "  </div>\n",
              "  "
            ]
          },
          "metadata": {},
          "execution_count": 36
        }
      ]
    },
    {
      "cell_type": "code",
      "source": [
        "df = pd.json_normalize(d)"
      ],
      "metadata": {
        "id": "MJ5iVmyjfZoD"
      },
      "execution_count": 37,
      "outputs": []
    },
    {
      "cell_type": "code",
      "source": [
        "df.to_csv('df.csv')"
      ],
      "metadata": {
        "id": "OxZU7kMmtB2l"
      },
      "execution_count": 38,
      "outputs": []
    },
    {
      "cell_type": "code",
      "source": [
        "df.to_excel(\"df.xlsx\") "
      ],
      "metadata": {
        "id": "Sm47zWp-FAyU"
      },
      "execution_count": 39,
      "outputs": []
    },
    {
      "cell_type": "code",
      "source": [
        "df.to_pickle(\"df.pkl\")"
      ],
      "metadata": {
        "id": "ST5LRtdKFM0d"
      },
      "execution_count": 40,
      "outputs": []
    },
    {
      "cell_type": "code",
      "source": [
        "import sqlite3\n",
        "conn = sqlite3.connect('test_database')"
      ],
      "metadata": {
        "id": "MsyzRLBNSGPU"
      },
      "execution_count": 41,
      "outputs": []
    },
    {
      "cell_type": "code",
      "source": [
        "# пришлось удалить некоторые колонки, чтобы загрузить в базу\n",
        "list(df1.columns)[104]"
      ],
      "metadata": {
        "colab": {
          "base_uri": "https://localhost:8080/",
          "height": 36
        },
        "id": "JtS-eVlvxM9Z",
        "outputId": "42f668f3-a15d-4374-9c40-9fcb50615506"
      },
      "execution_count": 52,
      "outputs": [
        {
          "output_type": "execute_result",
          "data": {
            "text/plain": [
              "'data.metro.colors'"
            ],
            "application/vnd.google.colaboratory.intrinsic+json": {
              "type": "string"
            }
          },
          "metadata": {},
          "execution_count": 52
        }
      ]
    },
    {
      "cell_type": "code",
      "source": [
        "df1 = df1.drop(columns='data.metro.colors')"
      ],
      "metadata": {
        "id": "LpJUGSYT0T23"
      },
      "execution_count": 53,
      "outputs": []
    },
    {
      "cell_type": "code",
      "source": [
        "df1.to_sql('df_sql', conn, if_exists='replace', index = False)\n",
        "conn.commit()\n",
        "conn.close()"
      ],
      "metadata": {
        "id": "RDSs9gpDWtUH"
      },
      "execution_count": 54,
      "outputs": []
    }
  ],
  "metadata": {
    "kernelspec": {
      "display_name": "Python 3",
      "language": "python",
      "name": "python3"
    },
    "language_info": {
      "codemirror_mode": {
        "name": "ipython",
        "version": 2
      },
      "file_extension": ".py",
      "mimetype": "text/x-python",
      "name": "python",
      "nbconvert_exporter": "python",
      "pygments_lexer": "ipython2",
      "version": "2.7.6"
    },
    "colab": {
      "provenance": [],
      "include_colab_link": true
    },
    "widgets": {
      "application/vnd.jupyter.widget-state+json": {
        "d5c9b4fb75f14e12b529fb000db71394": {
          "model_module": "@jupyter-widgets/controls",
          "model_name": "HBoxModel",
          "model_module_version": "1.5.0",
          "state": {
            "_dom_classes": [],
            "_model_module": "@jupyter-widgets/controls",
            "_model_module_version": "1.5.0",
            "_model_name": "HBoxModel",
            "_view_count": null,
            "_view_module": "@jupyter-widgets/controls",
            "_view_module_version": "1.5.0",
            "_view_name": "HBoxView",
            "box_style": "",
            "children": [
              "IPY_MODEL_c5e33d71bdc44410921b12732cd86351",
              "IPY_MODEL_d8733397c43e411c953defbac4535f28",
              "IPY_MODEL_1936b0a06f5c4caa9c1282c4cdc5309f"
            ],
            "layout": "IPY_MODEL_fe1b292fba784ce6a3865bbdda3442c1"
          }
        },
        "c5e33d71bdc44410921b12732cd86351": {
          "model_module": "@jupyter-widgets/controls",
          "model_name": "HTMLModel",
          "model_module_version": "1.5.0",
          "state": {
            "_dom_classes": [],
            "_model_module": "@jupyter-widgets/controls",
            "_model_module_version": "1.5.0",
            "_model_name": "HTMLModel",
            "_view_count": null,
            "_view_module": "@jupyter-widgets/controls",
            "_view_module_version": "1.5.0",
            "_view_name": "HTMLView",
            "description": "",
            "description_tooltip": null,
            "layout": "IPY_MODEL_ac133e57697a444fbc974d6aa85edf55",
            "placeholder": "​",
            "style": "IPY_MODEL_56c7cb84431342ba95b26cd1227edcf5",
            "value": "100%"
          }
        },
        "d8733397c43e411c953defbac4535f28": {
          "model_module": "@jupyter-widgets/controls",
          "model_name": "FloatProgressModel",
          "model_module_version": "1.5.0",
          "state": {
            "_dom_classes": [],
            "_model_module": "@jupyter-widgets/controls",
            "_model_module_version": "1.5.0",
            "_model_name": "FloatProgressModel",
            "_view_count": null,
            "_view_module": "@jupyter-widgets/controls",
            "_view_module_version": "1.5.0",
            "_view_name": "ProgressView",
            "bar_style": "success",
            "description": "",
            "description_tooltip": null,
            "layout": "IPY_MODEL_ec49b2ea941b4fe1ab2124b71c1e5102",
            "max": 10591,
            "min": 0,
            "orientation": "horizontal",
            "style": "IPY_MODEL_ece5bee2eb38403694b442db5779d673",
            "value": 10591
          }
        },
        "1936b0a06f5c4caa9c1282c4cdc5309f": {
          "model_module": "@jupyter-widgets/controls",
          "model_name": "HTMLModel",
          "model_module_version": "1.5.0",
          "state": {
            "_dom_classes": [],
            "_model_module": "@jupyter-widgets/controls",
            "_model_module_version": "1.5.0",
            "_model_name": "HTMLModel",
            "_view_count": null,
            "_view_module": "@jupyter-widgets/controls",
            "_view_module_version": "1.5.0",
            "_view_name": "HTMLView",
            "description": "",
            "description_tooltip": null,
            "layout": "IPY_MODEL_35f3de362a2b4c33a0baaf8658582832",
            "placeholder": "​",
            "style": "IPY_MODEL_45c499160d8d476da2723b5d22ea3cec",
            "value": " 10591/10591 [2:15:01&lt;00:00,  1.33it/s]"
          }
        },
        "fe1b292fba784ce6a3865bbdda3442c1": {
          "model_module": "@jupyter-widgets/base",
          "model_name": "LayoutModel",
          "model_module_version": "1.2.0",
          "state": {
            "_model_module": "@jupyter-widgets/base",
            "_model_module_version": "1.2.0",
            "_model_name": "LayoutModel",
            "_view_count": null,
            "_view_module": "@jupyter-widgets/base",
            "_view_module_version": "1.2.0",
            "_view_name": "LayoutView",
            "align_content": null,
            "align_items": null,
            "align_self": null,
            "border": null,
            "bottom": null,
            "display": null,
            "flex": null,
            "flex_flow": null,
            "grid_area": null,
            "grid_auto_columns": null,
            "grid_auto_flow": null,
            "grid_auto_rows": null,
            "grid_column": null,
            "grid_gap": null,
            "grid_row": null,
            "grid_template_areas": null,
            "grid_template_columns": null,
            "grid_template_rows": null,
            "height": null,
            "justify_content": null,
            "justify_items": null,
            "left": null,
            "margin": null,
            "max_height": null,
            "max_width": null,
            "min_height": null,
            "min_width": null,
            "object_fit": null,
            "object_position": null,
            "order": null,
            "overflow": null,
            "overflow_x": null,
            "overflow_y": null,
            "padding": null,
            "right": null,
            "top": null,
            "visibility": null,
            "width": null
          }
        },
        "ac133e57697a444fbc974d6aa85edf55": {
          "model_module": "@jupyter-widgets/base",
          "model_name": "LayoutModel",
          "model_module_version": "1.2.0",
          "state": {
            "_model_module": "@jupyter-widgets/base",
            "_model_module_version": "1.2.0",
            "_model_name": "LayoutModel",
            "_view_count": null,
            "_view_module": "@jupyter-widgets/base",
            "_view_module_version": "1.2.0",
            "_view_name": "LayoutView",
            "align_content": null,
            "align_items": null,
            "align_self": null,
            "border": null,
            "bottom": null,
            "display": null,
            "flex": null,
            "flex_flow": null,
            "grid_area": null,
            "grid_auto_columns": null,
            "grid_auto_flow": null,
            "grid_auto_rows": null,
            "grid_column": null,
            "grid_gap": null,
            "grid_row": null,
            "grid_template_areas": null,
            "grid_template_columns": null,
            "grid_template_rows": null,
            "height": null,
            "justify_content": null,
            "justify_items": null,
            "left": null,
            "margin": null,
            "max_height": null,
            "max_width": null,
            "min_height": null,
            "min_width": null,
            "object_fit": null,
            "object_position": null,
            "order": null,
            "overflow": null,
            "overflow_x": null,
            "overflow_y": null,
            "padding": null,
            "right": null,
            "top": null,
            "visibility": null,
            "width": null
          }
        },
        "56c7cb84431342ba95b26cd1227edcf5": {
          "model_module": "@jupyter-widgets/controls",
          "model_name": "DescriptionStyleModel",
          "model_module_version": "1.5.0",
          "state": {
            "_model_module": "@jupyter-widgets/controls",
            "_model_module_version": "1.5.0",
            "_model_name": "DescriptionStyleModel",
            "_view_count": null,
            "_view_module": "@jupyter-widgets/base",
            "_view_module_version": "1.2.0",
            "_view_name": "StyleView",
            "description_width": ""
          }
        },
        "ec49b2ea941b4fe1ab2124b71c1e5102": {
          "model_module": "@jupyter-widgets/base",
          "model_name": "LayoutModel",
          "model_module_version": "1.2.0",
          "state": {
            "_model_module": "@jupyter-widgets/base",
            "_model_module_version": "1.2.0",
            "_model_name": "LayoutModel",
            "_view_count": null,
            "_view_module": "@jupyter-widgets/base",
            "_view_module_version": "1.2.0",
            "_view_name": "LayoutView",
            "align_content": null,
            "align_items": null,
            "align_self": null,
            "border": null,
            "bottom": null,
            "display": null,
            "flex": null,
            "flex_flow": null,
            "grid_area": null,
            "grid_auto_columns": null,
            "grid_auto_flow": null,
            "grid_auto_rows": null,
            "grid_column": null,
            "grid_gap": null,
            "grid_row": null,
            "grid_template_areas": null,
            "grid_template_columns": null,
            "grid_template_rows": null,
            "height": null,
            "justify_content": null,
            "justify_items": null,
            "left": null,
            "margin": null,
            "max_height": null,
            "max_width": null,
            "min_height": null,
            "min_width": null,
            "object_fit": null,
            "object_position": null,
            "order": null,
            "overflow": null,
            "overflow_x": null,
            "overflow_y": null,
            "padding": null,
            "right": null,
            "top": null,
            "visibility": null,
            "width": null
          }
        },
        "ece5bee2eb38403694b442db5779d673": {
          "model_module": "@jupyter-widgets/controls",
          "model_name": "ProgressStyleModel",
          "model_module_version": "1.5.0",
          "state": {
            "_model_module": "@jupyter-widgets/controls",
            "_model_module_version": "1.5.0",
            "_model_name": "ProgressStyleModel",
            "_view_count": null,
            "_view_module": "@jupyter-widgets/base",
            "_view_module_version": "1.2.0",
            "_view_name": "StyleView",
            "bar_color": null,
            "description_width": ""
          }
        },
        "35f3de362a2b4c33a0baaf8658582832": {
          "model_module": "@jupyter-widgets/base",
          "model_name": "LayoutModel",
          "model_module_version": "1.2.0",
          "state": {
            "_model_module": "@jupyter-widgets/base",
            "_model_module_version": "1.2.0",
            "_model_name": "LayoutModel",
            "_view_count": null,
            "_view_module": "@jupyter-widgets/base",
            "_view_module_version": "1.2.0",
            "_view_name": "LayoutView",
            "align_content": null,
            "align_items": null,
            "align_self": null,
            "border": null,
            "bottom": null,
            "display": null,
            "flex": null,
            "flex_flow": null,
            "grid_area": null,
            "grid_auto_columns": null,
            "grid_auto_flow": null,
            "grid_auto_rows": null,
            "grid_column": null,
            "grid_gap": null,
            "grid_row": null,
            "grid_template_areas": null,
            "grid_template_columns": null,
            "grid_template_rows": null,
            "height": null,
            "justify_content": null,
            "justify_items": null,
            "left": null,
            "margin": null,
            "max_height": null,
            "max_width": null,
            "min_height": null,
            "min_width": null,
            "object_fit": null,
            "object_position": null,
            "order": null,
            "overflow": null,
            "overflow_x": null,
            "overflow_y": null,
            "padding": null,
            "right": null,
            "top": null,
            "visibility": null,
            "width": null
          }
        },
        "45c499160d8d476da2723b5d22ea3cec": {
          "model_module": "@jupyter-widgets/controls",
          "model_name": "DescriptionStyleModel",
          "model_module_version": "1.5.0",
          "state": {
            "_model_module": "@jupyter-widgets/controls",
            "_model_module_version": "1.5.0",
            "_model_name": "DescriptionStyleModel",
            "_view_count": null,
            "_view_module": "@jupyter-widgets/base",
            "_view_module_version": "1.2.0",
            "_view_name": "StyleView",
            "description_width": ""
          }
        }
      }
    }
  },
  "nbformat": 4,
  "nbformat_minor": 0
}